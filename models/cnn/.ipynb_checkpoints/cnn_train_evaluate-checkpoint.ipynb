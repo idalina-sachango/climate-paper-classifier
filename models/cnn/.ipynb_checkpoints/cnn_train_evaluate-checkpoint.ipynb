{
 "cells": [
  {
   "cell_type": "code",
   "execution_count": 2,
   "metadata": {},
   "outputs": [
    {
     "data": {
      "text/plain": [
       "'/Users/idalinassachango/Desktop/CS/Repositories/AdvancedMLII/venv/project/climate-paper-classifier/models/cnn'"
      ]
     },
     "execution_count": 2,
     "metadata": {},
     "output_type": "execute_result"
    }
   ],
   "source": [
    "import os\n",
    "import torch\n",
    "import pandas as pd\n",
    "import numpy as np\n",
    "import torch\n",
    "import torch.nn as nn\n",
    "import torch.optim as optim\n",
    "from sklearn.model_selection import train_test_split\n",
    "from torch.utils.data import Dataset\n",
    "from transformers import BertTokenizer\n",
    "from processing import Processing\n",
    "from classifier import CNN\n",
    "from processing import Processing\n",
    "from torch.utils.data import Dataset, DataLoader, random_split, TensorDataset\n",
    "\n",
    "# data = Processing()\n",
    "# data.load()\n",
    "# data.tokenize_and_build_vocabulary()\n",
    "# data.word_to_idx()\n",
    "# data.padding_sentences()"
   ]
  },
  {
   "cell_type": "code",
   "execution_count": 3,
   "metadata": {},
   "outputs": [],
   "source": [
    "import torch\n",
    "import torch.nn as nn\n",
    "import math\n",
    "import torch.optim as optim\n",
    "from processing import Processing\n",
    "from torch.utils.data import Dataset, DataLoader\n",
    "\n",
    "# source: https://coderzcolumn.com/tutorials/artificial-intelligence/pytorch-conv1d-for-text-classification\n",
    "\n",
    "class CNN(nn.Module):\n",
    "    def __init__(self):\n",
    "        super(CNN, self).__init__()\n",
    "        self.data = Processing()\n",
    "        self.data.process_all()\n",
    "        self.embedding_layer = nn.Embedding(num_embeddings=len(self.data.vocab), embedding_dim=128)\n",
    "        self.conv1 = nn.Conv1d(128, 32, kernel_size=3, padding=\"same\")\n",
    "        self.pooling1 = nn.MaxPool1d(2)\n",
    "        self.linear = nn.Linear(32, 5)\n",
    "\n",
    "    def forward(self, X_batch):\n",
    "        x = self.embedding_layer(X_batch)\n",
    "        # Transpose the tensor to shape [16, 128, 930]\n",
    "        x = x.transpose(1, 2)\n",
    "        x = nn.functional.relu(self.conv1(x))\n",
    "        x = self.pooling1(x)\n",
    "        x, _ = x.max(dim=-1)\n",
    "        x = self.linear(x)\n",
    "        return x"
   ]
  },
  {
   "cell_type": "code",
   "execution_count": 4,
   "metadata": {},
   "outputs": [],
   "source": [
    "\n",
    "from sklearn.metrics import accuracy_score\n",
    "\n",
    "def CalcValLossAndAccuracy(model, loss_fn, val_loader):\n",
    "    with torch.no_grad():\n",
    "        Y_shuffled, Y_preds, losses = [],[],[]\n",
    "        for X, Y in val_loader:\n",
    "            preds = model(X)\n",
    "            loss = loss_fn(preds, Y)\n",
    "            losses.append(loss.item())\n",
    "\n",
    "            Y_shuffled.append(Y)\n",
    "            Y_preds.append(preds.argmax(dim=-1))\n",
    "\n",
    "        Y_shuffled = torch.cat(Y_shuffled)\n",
    "        Y_preds = torch.cat(Y_preds)\n",
    "\n",
    "        # print(\"Valid Loss : {:.3f}\".format(torch.tensor(losses).mean()))\n",
    "        # print(\"Valid Acc  : {:.3f}\\n\".format(accuracy_score(Y_shuffled.detach().numpy(), Y_preds.detach().numpy())))\n",
    "        return losses, accuracy_score(Y_shuffled.detach().numpy(), Y_preds.detach().numpy())\n",
    "    \n"
   ]
  },
  {
   "cell_type": "code",
   "execution_count": null,
   "metadata": {},
   "outputs": [],
   "source": [
    "from torch.nn.utils import clip_grad_norm_\n",
    "import matplotlib.pyplot as plt\n",
    "%matplotlib inline\n",
    "\n",
    "# Model      \n",
    "model = CNN()\n",
    "# Opmization function\n",
    "optimizer = optim.Adam(model.parameters(), lr=1e-3)\n",
    "# Loss function\n",
    "loss_fn = nn.CrossEntropyLoss()\n",
    "# Data\n",
    "data = model.data\n",
    "loader_train = data.train_loader\n",
    "loader_val = data.val_loader\n",
    "loader_test = data.test_loader\n",
    "\n",
    "for X, Y in loader_val:\n",
    "    print(X.shape, Y.shape)\n",
    "    break\n",
    "\n",
    "epochs = 10\n",
    "learning_rate = 1e-3\n",
    "\n",
    "all_losses = []\n",
    "all_acc = []\n",
    "\n",
    "for i in range(epochs):\n",
    "    losses = []\n",
    "    for k, (X, Y) in enumerate(loader_train):\n",
    "        Y_preds = model(X)\n",
    "        loss = loss_fn(Y_preds, Y)\n",
    "        losses.append(loss.item())\n",
    "        optimizer.zero_grad()\n",
    "        loss.backward()\n",
    "        clip_grad_norm_(model.parameters(), 1)\n",
    "        optimizer.step()\n",
    "\n",
    "        step = (k+1)\n",
    "        if step % 100 == 0:\n",
    "            loss, accuracy = CalcValLossAndAccuracy(model, loss_fn, loader_val)\n",
    "            all_losses.append(loss)\n",
    "            all_acc.append(accuracy)\n",
    "            print(\"Epoch\", i, \"Step\", step, \"Train Loss: {:.3f}\".format(torch.tensor(losses).mean()), \n",
    "                  \"Valid Loss: {:.3f}\".format(torch.tensor(loss).mean()),\n",
    "                  \"Valid Acc: {:.3f}\".format(accuracy))\n",
    "\n",
    "plt.plot(range(1, epochs+1), all_acc)\n",
    "plt.title(\"CNN: Validation Accuracy vs. Epoch\")\n",
    "plt.xlabel(\"Epochs\")\n",
    "plt.ylabel(\"Validation Accuracy\")\n",
    "plt.show()\n",
    "\n",
    "\n"
   ]
  },
  {
   "cell_type": "code",
   "execution_count": 5,
   "metadata": {},
   "outputs": [
    {
     "ename": "NameError",
     "evalue": "name 'F' is not defined",
     "output_type": "error",
     "traceback": [
      "\u001b[0;31m---------------------------------------------------------------------------\u001b[0m",
      "\u001b[0;31mNameError\u001b[0m                                 Traceback (most recent call last)",
      "Cell \u001b[0;32mIn[5], line 13\u001b[0m\n\u001b[1;32m      9\u001b[0m     Y_preds, Y_shuffled \u001b[39m=\u001b[39m torch\u001b[39m.\u001b[39mcat(Y_preds), torch\u001b[39m.\u001b[39mcat(Y_shuffled)\n\u001b[1;32m     11\u001b[0m     \u001b[39mreturn\u001b[39;00m Y_shuffled\u001b[39m.\u001b[39mdetach()\u001b[39m.\u001b[39mnumpy(), F\u001b[39m.\u001b[39msoftmax(Y_preds, dim\u001b[39m=\u001b[39m\u001b[39m-\u001b[39m\u001b[39m1\u001b[39m)\u001b[39m.\u001b[39margmax(dim\u001b[39m=\u001b[39m\u001b[39m-\u001b[39m\u001b[39m1\u001b[39m)\u001b[39m.\u001b[39mdetach()\u001b[39m.\u001b[39mnumpy()\n\u001b[0;32m---> 13\u001b[0m Y_actual, Y_preds \u001b[39m=\u001b[39m MakePredictions(model, loader_test)\n",
      "Cell \u001b[0;32mIn[5], line 11\u001b[0m, in \u001b[0;36mMakePredictions\u001b[0;34m(model, loader)\u001b[0m\n\u001b[1;32m      8\u001b[0m gc\u001b[39m.\u001b[39mcollect()\n\u001b[1;32m      9\u001b[0m Y_preds, Y_shuffled \u001b[39m=\u001b[39m torch\u001b[39m.\u001b[39mcat(Y_preds), torch\u001b[39m.\u001b[39mcat(Y_shuffled)\n\u001b[0;32m---> 11\u001b[0m \u001b[39mreturn\u001b[39;00m Y_shuffled\u001b[39m.\u001b[39mdetach()\u001b[39m.\u001b[39mnumpy(), F\u001b[39m.\u001b[39msoftmax(Y_preds, dim\u001b[39m=\u001b[39m\u001b[39m-\u001b[39m\u001b[39m1\u001b[39m)\u001b[39m.\u001b[39margmax(dim\u001b[39m=\u001b[39m\u001b[39m-\u001b[39m\u001b[39m1\u001b[39m)\u001b[39m.\u001b[39mdetach()\u001b[39m.\u001b[39mnumpy()\n",
      "\u001b[0;31mNameError\u001b[0m: name 'F' is not defined"
     ]
    }
   ],
   "source": [
    "import gc\n",
    "def MakePredictions(model, loader):\n",
    "    Y_shuffled, Y_preds = [], []\n",
    "    for X, Y in loader:\n",
    "        preds = model(X)\n",
    "        Y_preds.append(preds)\n",
    "        Y_shuffled.append(Y)\n",
    "    gc.collect()\n",
    "    Y_preds, Y_shuffled = torch.cat(Y_preds), torch.cat(Y_shuffled)\n",
    "\n",
    "    return Y_shuffled.detach().numpy(), F.softmax(Y_preds, dim=-1).argmax(dim=-1).detach().numpy()\n",
    "\n",
    "Y_actual, Y_preds = MakePredictions(model, loader_test)"
   ]
  }
 ],
 "metadata": {
  "kernelspec": {
   "display_name": "capp30255",
   "language": "python",
   "name": "capp30255"
  },
  "language_info": {
   "codemirror_mode": {
    "name": "ipython",
    "version": 3
   },
   "file_extension": ".py",
   "mimetype": "text/x-python",
   "name": "python",
   "nbconvert_exporter": "python",
   "pygments_lexer": "ipython3",
   "version": "3.10.10"
  }
 },
 "nbformat": 4,
 "nbformat_minor": 2
}
