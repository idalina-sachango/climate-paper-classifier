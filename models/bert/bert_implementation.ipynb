{
  "nbformat": 4,
  "nbformat_minor": 0,
  "metadata": {
    "colab": {
      "provenance": [],
      "gpuType": "T4"
    },
    "kernelspec": {
      "name": "python3",
      "display_name": "Python 3"
    },
    "language_info": {
      "name": "python"
    },
    "accelerator": "GPU",
    "gpuClass": "standard"
  },
  "cells": [
    {
      "cell_type": "markdown",
      "source": [
        "## Using BERT to Classify text \n",
        "\n"
      ],
      "metadata": {
        "id": "-H28DXBkFYUG"
      }
    },
    {
      "cell_type": "code",
      "execution_count": null,
      "metadata": {
        "colab": {
          "base_uri": "https://localhost:8080/"
        },
        "id": "kvGYWOeMBBkj",
        "outputId": "995a8b1c-9966-4866-f3bf-6081cf426450"
      },
      "outputs": [
        {
          "output_type": "stream",
          "name": "stdout",
          "text": [
            "Using cuda.\n",
            "Drive already mounted at /content/gdrive; to attempt to forcibly remount, call drive.mount(\"/content/gdrive\", force_remount=True).\n"
          ]
        }
      ],
      "source": [
        "import os\n",
        "import random\n",
        "import datetime\n",
        "import numpy as np\n",
        "import torch\n",
        "import pandas as pd\n",
        "from torch.utils.data import Dataset, DataLoader, random_split\n",
        "\n",
        "import torchtext\n",
        "from torchtext.data.utils import get_tokenizer\n",
        "from torchtext.vocab import Vectors, build_vocab_from_iterator\n",
        "\n",
        "\n",
        "USE_CUDA = torch.cuda.is_available()\n",
        "\n",
        "if USE_CUDA:\n",
        "    DEVICE = torch.device('cuda')\n",
        "    print(\"Using cuda.\")\n",
        "else:\n",
        "    DEVICE = torch.device('cpu')\n",
        "    print(\"Using cpu.\")\n",
        "\n",
        "seed = 30255    \n",
        "random.seed(seed)\n",
        "np.random.seed(seed)\n",
        "torch.manual_seed(seed)\n",
        "if USE_CUDA:\n",
        "    torch.cuda.manual_seed(seed)\n",
        "\n",
        "COLAB = True\n",
        "\n",
        "if COLAB:\n",
        "    from google.colab import drive \n",
        "    drive.mount('/content/gdrive')\n",
        "    PATH = \"gdrive/Shareddrives/Adv ML Project/Data/\"\n",
        "else:\n",
        "    # Change path to appropriate location\n",
        "    PATH = \"/Users/kilaf/OneDrive - The University of Chicago/CAPP255/Project\"\n",
        "    "
      ]
    },
    {
      "cell_type": "markdown",
      "source": [
        "Step 1: Load in pre-processed data and split into train, validation and test datasets using seed 30255"
      ],
      "metadata": {
        "id": "eS1Gq1XNGRan"
      }
    },
    {
      "cell_type": "code",
      "execution_count": null,
      "metadata": {
        "id": "8qV6yPCfFROn"
      },
      "outputs": [],
      "source": [
        "df = pd.read_csv(os.path.join(PATH + \"preprocessed_data.csv\"))"
      ]
    },
    {
      "cell_type": "code",
      "source": [
        "len(df)"
      ],
      "metadata": {
        "colab": {
          "base_uri": "https://localhost:8080/"
        },
        "id": "LwQTTYRnJz5P",
        "outputId": "b842572f-82c0-4c46-c280-b93816949250"
      },
      "execution_count": null,
      "outputs": [
        {
          "output_type": "execute_result",
          "data": {
            "text/plain": [
              "6115"
            ]
          },
          "metadata": {},
          "execution_count": 3
        }
      ]
    },
    {
      "cell_type": "markdown",
      "source": [
        "Converting the classes we want to classify to integers"
      ],
      "metadata": {
        "id": "H9FFvacUM0qV"
      }
    },
    {
      "cell_type": "code",
      "source": [
        "from sklearn.preprocessing import LabelEncoder\n",
        "\n",
        "le = LabelEncoder()\n",
        "labels = le.fit_transform(df['CLASS'])\n",
        "\n",
        "print(len(labels))"
      ],
      "metadata": {
        "colab": {
          "base_uri": "https://localhost:8080/"
        },
        "id": "EDgd_lD4Mx1e",
        "outputId": "698ffda7-cfc6-463b-a760-28889c2a2798"
      },
      "execution_count": null,
      "outputs": [
        {
          "output_type": "stream",
          "name": "stdout",
          "text": [
            "6115\n"
          ]
        }
      ]
    },
    {
      "cell_type": "markdown",
      "source": [
        "Using the BERT_TOKENIZED column to create our dataloader with the intergerized labels"
      ],
      "metadata": {
        "id": "Q--Zmoy-KDPi"
      }
    },
    {
      "cell_type": "code",
      "source": [
        "!pip install transformers"
      ],
      "metadata": {
        "colab": {
          "base_uri": "https://localhost:8080/"
        },
        "id": "H1TyVyjSQsek",
        "outputId": "f57f02ae-4d81-4fdc-96ee-bfa1f6764d69"
      },
      "execution_count": null,
      "outputs": [
        {
          "output_type": "stream",
          "name": "stdout",
          "text": [
            "Looking in indexes: https://pypi.org/simple, https://us-python.pkg.dev/colab-wheels/public/simple/\n",
            "Requirement already satisfied: transformers in /usr/local/lib/python3.10/dist-packages (4.28.1)\n",
            "Requirement already satisfied: requests in /usr/local/lib/python3.10/dist-packages (from transformers) (2.27.1)\n",
            "Requirement already satisfied: packaging>=20.0 in /usr/local/lib/python3.10/dist-packages (from transformers) (23.1)\n",
            "Requirement already satisfied: regex!=2019.12.17 in /usr/local/lib/python3.10/dist-packages (from transformers) (2022.10.31)\n",
            "Requirement already satisfied: tqdm>=4.27 in /usr/local/lib/python3.10/dist-packages (from transformers) (4.65.0)\n",
            "Requirement already satisfied: huggingface-hub<1.0,>=0.11.0 in /usr/local/lib/python3.10/dist-packages (from transformers) (0.14.1)\n",
            "Requirement already satisfied: filelock in /usr/local/lib/python3.10/dist-packages (from transformers) (3.12.0)\n",
            "Requirement already satisfied: pyyaml>=5.1 in /usr/local/lib/python3.10/dist-packages (from transformers) (6.0)\n",
            "Requirement already satisfied: tokenizers!=0.11.3,<0.14,>=0.11.1 in /usr/local/lib/python3.10/dist-packages (from transformers) (0.13.3)\n",
            "Requirement already satisfied: numpy>=1.17 in /usr/local/lib/python3.10/dist-packages (from transformers) (1.22.4)\n",
            "Requirement already satisfied: typing-extensions>=3.7.4.3 in /usr/local/lib/python3.10/dist-packages (from huggingface-hub<1.0,>=0.11.0->transformers) (4.5.0)\n",
            "Requirement already satisfied: fsspec in /usr/local/lib/python3.10/dist-packages (from huggingface-hub<1.0,>=0.11.0->transformers) (2023.4.0)\n",
            "Requirement already satisfied: idna<4,>=2.5 in /usr/local/lib/python3.10/dist-packages (from requests->transformers) (3.4)\n",
            "Requirement already satisfied: charset-normalizer~=2.0.0 in /usr/local/lib/python3.10/dist-packages (from requests->transformers) (2.0.12)\n",
            "Requirement already satisfied: certifi>=2017.4.17 in /usr/local/lib/python3.10/dist-packages (from requests->transformers) (2022.12.7)\n",
            "Requirement already satisfied: urllib3<1.27,>=1.21.1 in /usr/local/lib/python3.10/dist-packages (from requests->transformers) (1.26.15)\n"
          ]
        }
      ]
    },
    {
      "cell_type": "code",
      "source": [
        "from transformers import BertTokenizer\n",
        "\n",
        "tokenizer = BertTokenizer.from_pretrained('bert-base-uncased')"
      ],
      "metadata": {
        "id": "-Rygpgi8QdO8"
      },
      "execution_count": null,
      "outputs": []
    },
    {
      "cell_type": "code",
      "source": [
        "def tokenize_text(text):\n",
        "    \"\"\"\n",
        "    Truncating the text to 256 for consistency's sake\n",
        "    \"\"\"\n",
        "    return tokenizer.encode_plus(text,\n",
        "                                  add_special_tokens=True,\n",
        "                                  max_length=256,\n",
        "                                  padding='max_length',\n",
        "                                  return_attention_mask=True,\n",
        "                                  return_tensors='pt',\n",
        "                                  truncation=True)\n",
        "\n",
        "tokenized_text = df['DESCRIPTION'].apply(tokenize_text)"
      ],
      "metadata": {
        "id": "r6WORIG9QcUD"
      },
      "execution_count": null,
      "outputs": []
    },
    {
      "cell_type": "code",
      "source": [
        "tokenized_text[1]['input_ids']"
      ],
      "metadata": {
        "colab": {
          "base_uri": "https://localhost:8080/"
        },
        "id": "4_ibOLvLSLpx",
        "outputId": "2f5e1008-9f5b-4ea1-bbc0-caf5d3bc2a65"
      },
      "execution_count": null,
      "outputs": [
        {
          "output_type": "execute_result",
          "data": {
            "text/plain": [
              "tensor([[  101,  5943, 21346,  1523,  4658, 14271,  2015,  1524,  2031,  2042,\n",
              "          3818,  2004,  1037,  4022,  3684, 10210, 13340,  3508,  5656,  2005,\n",
              "          3655,  1012,  2174,  1010,  3025,  2470,  2038,  2025, 23087, 10847,\n",
              "          1996,  6698,  2000,  2029,  4658, 14271,  2015,  2071,  5547,  3923,\n",
              "          7715,  1012,  1999,  2023,  2817,  2057, 10847,  1996,  4785, 14670,\n",
              "          1997,  6923, 10813,  1997,  4658, 14271,  2015,  1999,  2662,  3655,\n",
              "          1012,  2478,  1996,  4633,  2470,  1998, 19939,  2075,  2944,  1010,\n",
              "          2057, 23599,  1996,  2783,  4785,  1997,  2662,  2012,  1018,  2463,\n",
              "         13589,  5813,  1012, 13599,  2023, 12504,  2000,  8746,  4633,  3703,\n",
              "          1999,  2662,  4081,  2019,  3452,  2812, 13827,  1006,  2944, 15718,\n",
              "          8089,  1007,  1997,  1516,  1014,  1012,  2382,  7737,  2278,  1012,\n",
              "          6923, 14271,  2632, 28759,  7457,  1997,  1014,  1012,  1015,  1998,\n",
              "          1014,  1012,  1018,  1999,  2662,  3655,  2020,  2059, 23599,  1012,\n",
              "         13599,  4860, 25006,  2005,  2169, 11967,  3662,  2008,  1996,  4785,\n",
              "          3433,  2000, 14271,  2632, 28759, 14080,  2001,  3053,  7399,  1012,\n",
              "          4860, 25006,  2012,  2403,  1024,  4002,  2334,  3115,  2051,  2020,\n",
              "          2179,  2000,  2022,  1014,  1012,  3590,  7737,  2278,  2566,  1014,\n",
              "          1012,  1015,  3623,  1999,  8370,  3526,  2779,  2632, 28759,  1012,\n",
              "          4860, 25006,  2020,  2179,  2000,  4672,  1999,  1996,  2397,  2851,\n",
              "          1998,  3944,  2043,  1006,  1037,  1007,  6192,  6741,  7535,  2020,\n",
              "          2659,  1998,  1006,  1038,  1007,  5943, 20868, 12173, 28335,  1006,\n",
              "          2397,  2851,  1007,  1998,  3684, 20299,  1999,  1996, 14271,  1006,\n",
              "          3944,  1007,  2001,  2152,  1012,  4860, 25006,  1999,  2621,  2020,\n",
              "          2179,  2000, 13467,  2216,  1999,  3467,  1010,  2004,  3517,  1012,\n",
              "          2044, 25169,  1996,  3463,  2478, 12689,  2951,  1011,  5173,  3923,\n",
              "          8399, 22822,  8458, 20792,  1998,   102]])"
            ]
          },
          "metadata": {},
          "execution_count": 8
        }
      ]
    },
    {
      "cell_type": "code",
      "source": [
        "from torch.utils.data import DataLoader, TensorDataset\n",
        "\n",
        "# create DataLoader - need to stack the lists of tensors into one tensor\n",
        "input_ids = torch.stack([row['input_ids'] for row in tokenized_text])\n",
        "attention_mask = torch.stack([row['attention_mask'] for row in tokenized_text])\n",
        "\n",
        "# Concatenating the Embeddings, Attention Mask and Labels\n",
        "dataset = TensorDataset(input_ids, attention_mask, torch.tensor(labels, dtype=torch.long))"
      ],
      "metadata": {
        "id": "kTV78DpVLqPG"
      },
      "execution_count": null,
      "outputs": []
    },
    {
      "cell_type": "code",
      "source": [
        "# compute train/validation/test split sizes\n",
        "train_size = int(0.7 * len(dataset))\n",
        "val_size = int(0.15 * len(dataset))\n",
        "test_size = len(dataset) - train_size - val_size\n",
        "\n",
        "# split dataset randomly into train/validation/test sets\n",
        "train_data, val_data, test_data = random_split(dataset, [train_size, val_size, test_size])\n",
        "\n",
        "# create data loaders for each set\n",
        "train_loader = DataLoader(train_data, batch_size=32, shuffle=True)\n",
        "val_loader = DataLoader(val_data, batch_size=32, shuffle=True)\n",
        "test_loader = DataLoader(test_data, batch_size=32, shuffle=True)"
      ],
      "metadata": {
        "id": "HYkE6Sj0LOAv"
      },
      "execution_count": null,
      "outputs": []
    },
    {
      "cell_type": "code",
      "source": [
        "import torch.nn as nn\n",
        "from transformers import BertForSequenceClassification\n",
        "\n",
        "model = BertForSequenceClassification.from_pretrained('bert-base-uncased', num_labels=len(labels))\n",
        "device = torch.device('cuda')\n",
        "model.to(device)"
      ],
      "metadata": {
        "colab": {
          "base_uri": "https://localhost:8080/"
        },
        "id": "GJKcmfkrKVYL",
        "outputId": "a9da82e1-e777-4c84-c08f-40d6feca9c2f"
      },
      "execution_count": null,
      "outputs": [
        {
          "output_type": "stream",
          "name": "stderr",
          "text": [
            "Some weights of the model checkpoint at bert-base-uncased were not used when initializing BertForSequenceClassification: ['cls.seq_relationship.weight', 'cls.seq_relationship.bias', 'cls.predictions.transform.LayerNorm.weight', 'cls.predictions.decoder.weight', 'cls.predictions.transform.LayerNorm.bias', 'cls.predictions.transform.dense.weight', 'cls.predictions.bias', 'cls.predictions.transform.dense.bias']\n",
            "- This IS expected if you are initializing BertForSequenceClassification from the checkpoint of a model trained on another task or with another architecture (e.g. initializing a BertForSequenceClassification model from a BertForPreTraining model).\n",
            "- This IS NOT expected if you are initializing BertForSequenceClassification from the checkpoint of a model that you expect to be exactly identical (initializing a BertForSequenceClassification model from a BertForSequenceClassification model).\n",
            "Some weights of BertForSequenceClassification were not initialized from the model checkpoint at bert-base-uncased and are newly initialized: ['classifier.bias', 'classifier.weight']\n",
            "You should probably TRAIN this model on a down-stream task to be able to use it for predictions and inference.\n"
          ]
        },
        {
          "output_type": "execute_result",
          "data": {
            "text/plain": [
              "BertForSequenceClassification(\n",
              "  (bert): BertModel(\n",
              "    (embeddings): BertEmbeddings(\n",
              "      (word_embeddings): Embedding(30522, 768, padding_idx=0)\n",
              "      (position_embeddings): Embedding(512, 768)\n",
              "      (token_type_embeddings): Embedding(2, 768)\n",
              "      (LayerNorm): LayerNorm((768,), eps=1e-12, elementwise_affine=True)\n",
              "      (dropout): Dropout(p=0.1, inplace=False)\n",
              "    )\n",
              "    (encoder): BertEncoder(\n",
              "      (layer): ModuleList(\n",
              "        (0-11): 12 x BertLayer(\n",
              "          (attention): BertAttention(\n",
              "            (self): BertSelfAttention(\n",
              "              (query): Linear(in_features=768, out_features=768, bias=True)\n",
              "              (key): Linear(in_features=768, out_features=768, bias=True)\n",
              "              (value): Linear(in_features=768, out_features=768, bias=True)\n",
              "              (dropout): Dropout(p=0.1, inplace=False)\n",
              "            )\n",
              "            (output): BertSelfOutput(\n",
              "              (dense): Linear(in_features=768, out_features=768, bias=True)\n",
              "              (LayerNorm): LayerNorm((768,), eps=1e-12, elementwise_affine=True)\n",
              "              (dropout): Dropout(p=0.1, inplace=False)\n",
              "            )\n",
              "          )\n",
              "          (intermediate): BertIntermediate(\n",
              "            (dense): Linear(in_features=768, out_features=3072, bias=True)\n",
              "            (intermediate_act_fn): GELUActivation()\n",
              "          )\n",
              "          (output): BertOutput(\n",
              "            (dense): Linear(in_features=3072, out_features=768, bias=True)\n",
              "            (LayerNorm): LayerNorm((768,), eps=1e-12, elementwise_affine=True)\n",
              "            (dropout): Dropout(p=0.1, inplace=False)\n",
              "          )\n",
              "        )\n",
              "      )\n",
              "    )\n",
              "    (pooler): BertPooler(\n",
              "      (dense): Linear(in_features=768, out_features=768, bias=True)\n",
              "      (activation): Tanh()\n",
              "    )\n",
              "  )\n",
              "  (dropout): Dropout(p=0.1, inplace=False)\n",
              "  (classifier): Linear(in_features=768, out_features=6115, bias=True)\n",
              ")"
            ]
          },
          "metadata": {},
          "execution_count": 11
        }
      ]
    },
    {
      "cell_type": "markdown",
      "source": [
        "### Step 2: Model Training"
      ],
      "metadata": {
        "id": "T2ADeIAaaPoy"
      }
    },
    {
      "cell_type": "code",
      "source": [
        "def train_model(model, train_data_loader, optimizer):\n",
        "    model.train()\n",
        "\n",
        "    for batch in train_data_loader:\n",
        "        input_ids, attention_mask, labels = batch\n",
        "        if USE_CUDA:\n",
        "                input_ids, attention_mask, labels = input_ids.squeeze(1).cuda(), attention_mask.cuda(), labels.cuda()\n",
        "        optimizer.zero_grad()\n",
        "        outputs = model(input_ids, attention_mask=attention_mask, labels=labels)\n",
        "        loss = torch.nn.functional.cross_entropy(outputs.logits, labels)\n",
        "\n",
        "        loss.backward()\n",
        "        optimizer.step()"
      ],
      "metadata": {
        "id": "eWwchBjUfmOt"
      },
      "execution_count": null,
      "outputs": []
    },
    {
      "cell_type": "code",
      "source": [
        "def validate(model, data_loader):\n",
        "    model.eval() # set model to evaluation mode\n",
        "    \n",
        "    # initialize performance metrics\n",
        "    num_correct = 0\n",
        "    num_samples = 0\n",
        "    losses = []\n",
        "    \n",
        "    # create data loader for validation set\n",
        "    \n",
        "    # iterate over batches in validation set\n",
        "    for batch in data_loader:\n",
        "        # extract inputs and targets from batch\n",
        "\n",
        "        input_ids, attention_mask, labels = batch\n",
        "        if USE_CUDA:\n",
        "                input_ids, attention_mask, labels = input_ids.squeeze(1).cuda(), attention_mask.cuda(), labels.cuda()\n",
        "\n",
        "        \n",
        "        # compute model outputs and loss\n",
        "        with torch.no_grad():\n",
        "            outputs = model(input_ids, attention_mask=attention_mask)\n",
        "            loss = torch.nn.functional.cross_entropy(outputs.logits, labels)\n",
        "        \n",
        "        # update performance metrics\n",
        "        losses.append(loss.item())\n",
        "        _, preds = torch.max(outputs.logits, dim=1)\n",
        "        num_correct += (preds == labels).sum().item()\n",
        "        num_samples += labels.size(0)\n",
        "        \n",
        "    # compute average loss and accuracy\n",
        "    avg_loss = sum(losses) / len(losses)\n",
        "    accuracy = num_correct / num_samples\n",
        "    \n",
        "    print(f'Validation Loss: {avg_loss:.4f} | Accuracy: {accuracy:.4f}')\n",
        "    \n",
        "    return avg_loss, accuracy"
      ],
      "metadata": {
        "id": "6_1gSIM3ga2A"
      },
      "execution_count": null,
      "outputs": []
    },
    {
      "cell_type": "code",
      "source": [
        "num_epochs = 5\n",
        "\n",
        "optimizer = torch.optim.Adam(model.parameters(), lr=1e-5)\n",
        "loss_fn = nn.CrossEntropyLoss()\n",
        "val_loss = []\n",
        "for epoch in range(num_epochs):\n",
        "    print(f'Epoch {epoch+1}/{num_epochs}')\n",
        "    \n",
        "    # train model on training set\n",
        "    train_model(model, train_loader, optimizer)\n",
        "    \n",
        "    # validate model on validation set\n",
        "    accuracy, loss = validate(model, val_loader)\n",
        "    val_loss.append(loss)"
      ],
      "metadata": {
        "colab": {
          "base_uri": "https://localhost:8080/"
        },
        "id": "p0Ys_DFKaAOz",
        "outputId": "b9b3eabe-7650-4cc4-ccf7-88d74cba6db0"
      },
      "execution_count": null,
      "outputs": [
        {
          "output_type": "stream",
          "name": "stdout",
          "text": [
            "Epoch 1/5\n",
            "Validation Loss: 4.5957 | Accuracy: 0.2879\n",
            "Epoch 2/5\n",
            "Validation Loss: 2.1862 | Accuracy: 0.6172\n",
            "Epoch 3/5\n",
            "Validation Loss: 1.2307 | Accuracy: 0.7634\n",
            "Epoch 4/5\n",
            "Validation Loss: 0.8533 | Accuracy: 0.7797\n",
            "Epoch 5/5\n",
            "Validation Loss: 0.7315 | Accuracy: 0.7830\n"
          ]
        }
      ]
    },
    {
      "cell_type": "code",
      "source": [],
      "metadata": {
        "id": "ReF9RRgOuTgZ"
      },
      "execution_count": null,
      "outputs": []
    },
    {
      "cell_type": "code",
      "source": [
        "import matplotlib.pyplot as plt\n",
        "\n",
        "# plot validation loss\n",
        "plt.plot(range(1, num_epochs+1), val_loss)\n",
        "plt.xlabel('Epoch')\n",
        "plt.ylabel('Validation Accuracy')\n",
        "plt.title('BERT: Validation Accuracy vs. Epoch')\n",
        "plt.show()"
      ],
      "metadata": {
        "colab": {
          "base_uri": "https://localhost:8080/",
          "height": 472
        },
        "id": "zMy76L1WdSo2",
        "outputId": "63932b99-883d-4a04-9739-2bd2a0d88ab9"
      },
      "execution_count": null,
      "outputs": [
        {
          "output_type": "display_data",
          "data": {
            "text/plain": [
              "<Figure size 640x480 with 1 Axes>"
            ],
            "image/png": "[encoded data removed]"
          },
          "metadata": {}
        }
      ]
    },
    {
      "cell_type": "code",
      "source": [
        "accuracy, loss = validate(model, test_loader)"
      ],
      "metadata": {
        "colab": {
          "base_uri": "https://localhost:8080/"
        },
        "id": "xFZlSa9w53-F",
        "outputId": "c0039980-ffdb-4105-c487-9303a9ff6b7f"
      },
      "execution_count": null,
      "outputs": [
        {
          "output_type": "stream",
          "name": "stdout",
          "text": [
            "Validation Loss: 0.6419 | Accuracy: 0.8203\n"
          ]
        }
      ]
    },
    {
      "cell_type": "code",
      "source": [
        "# device = torch.device('cuda') if torch.cuda.is_available() else torch.device('cpu')\n",
        "# model.to(device)\n",
        "\n",
        "# optimizer = torch.optim.Adam(model.parameters(), lr=1e-5)\n",
        "# loss_fn = nn.CrossEntropyLoss()\n",
        "\n",
        "\n",
        "# epochs = 5\n",
        "# for epoch in range(epochs):\n",
        "#     train_loss = 0\n",
        "#     val_loss = 0\n",
        "\n",
        "#     model.train()\n",
        "#     optimizer.zero_grad()\n",
        "#     # Forward pass\n",
        "#     for batch in train_loader:\n",
        "#         optimizer.zero_grad()\n",
        "#         input_ids, attention_mask, labels = batch\n",
        "#         outputs = model(input_ids, attention_mask=attention_mask, labels=labels)\n",
        "#         loss = outputs.loss\n",
        "#         train_loss += loss.item()\n",
        "#         loss.backward()\n",
        "    \n",
        "#     # Validation\n",
        "#     model.eval()\n",
        "#     with torch.no_grad():\n",
        "#         val_outputs = model(\n",
        "#             input_ids=val_texts['input_ids'].to(device),\n",
        "#             attention_mask=val_texts['attention_mask'].to(device),\n",
        "#             labels=val_labels.to(device))\n",
        "\n",
        "#         val_loss = val_outputs.loss\n",
        "#         val_acc = (val_outputs.logits.argmax(axis=1) == val_labels).float().mean()\n",
        "\n",
        "#     print(f'Epoch {epoch+1}/{epochs}: Train loss: {loss:.3f}. Val loss: {val_loss:.3f}. Val acc: {val_acc:.3f}')"
      ],
      "metadata": {
        "id": "o1mSk-zJbb7X"
      },
      "execution_count": null,
      "outputs": []
    }
  ]
}