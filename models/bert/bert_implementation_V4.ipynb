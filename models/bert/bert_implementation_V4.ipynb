{
  "nbformat": 4,
  "nbformat_minor": 0,
  "metadata": {
    "colab": {
      "provenance": [],
      "gpuType": "T4",
      "history_visible": true
    },
    "kernelspec": {
      "name": "python3",
      "display_name": "Python 3"
    },
    "language_info": {
      "name": "python"
    },
    "accelerator": "GPU",
    "gpuClass": "standard"
  },
  "cells": [
    {
      "cell_type": "markdown",
      "source": [
        "## Using BERT to Classify text \n",
        "\n"
      ],
      "metadata": {
        "id": "-H28DXBkFYUG"
      }
    },
    {
      "cell_type": "code",
      "execution_count": 1,
      "metadata": {
        "colab": {
          "base_uri": "https://localhost:8080/"
        },
        "id": "kvGYWOeMBBkj",
        "outputId": "7831356b-56cc-4a98-bef3-761f58fc79d3"
      },
      "outputs": [
        {
          "output_type": "stream",
          "name": "stdout",
          "text": [
            "Using cuda.\n",
            "Drive already mounted at /content/gdrive; to attempt to forcibly remount, call drive.mount(\"/content/gdrive\", force_remount=True).\n"
          ]
        }
      ],
      "source": [
        "import os\n",
        "import random\n",
        "import datetime\n",
        "import numpy as np\n",
        "import torch\n",
        "import pandas as pd\n",
        "from torch.utils.data import Dataset, DataLoader, random_split\n",
        "\n",
        "import torchtext\n",
        "from torchtext.data.utils import get_tokenizer\n",
        "from torchtext.vocab import Vectors, build_vocab_from_iterator\n",
        "\n",
        "\n",
        "USE_CUDA = torch.cuda.is_available()\n",
        "\n",
        "if USE_CUDA:\n",
        "    DEVICE = torch.device('cuda')\n",
        "    print(\"Using cuda.\")\n",
        "else:\n",
        "    DEVICE = torch.device('cpu')\n",
        "    print(\"Using cpu.\")\n",
        "\n",
        "seed = 30255    \n",
        "random.seed(seed)\n",
        "np.random.seed(seed)\n",
        "torch.manual_seed(seed)\n",
        "if USE_CUDA:\n",
        "    torch.cuda.manual_seed(seed)\n",
        "\n",
        "COLAB = True\n",
        "\n",
        "if COLAB:\n",
        "    from google.colab import drive \n",
        "    drive.mount('/content/gdrive')\n",
        "    PATH = \"gdrive/Shareddrives/Adv ML Project/Data/\"\n",
        "else:\n",
        "    # Change path to appropriate location\n",
        "    PATH = \"/Users/kilaf/OneDrive - The University of Chicago/CAPP255/Project\"\n",
        "    "
      ]
    },
    {
      "cell_type": "markdown",
      "source": [
        "Step 1: Load in pre-processed data and split into train, validation and test datasets using seed 30255"
      ],
      "metadata": {
        "id": "eS1Gq1XNGRan"
      }
    },
    {
      "cell_type": "code",
      "execution_count": 2,
      "metadata": {
        "id": "8qV6yPCfFROn"
      },
      "outputs": [],
      "source": [
        "df = pd.read_csv(os.path.join(PATH + \"preprocessed_data.csv\"))"
      ]
    },
    {
      "cell_type": "code",
      "source": [
        "len(df)"
      ],
      "metadata": {
        "colab": {
          "base_uri": "https://localhost:8080/"
        },
        "id": "LwQTTYRnJz5P",
        "outputId": "032d65f7-5a06-4682-dd3f-408a31f12b21"
      },
      "execution_count": 3,
      "outputs": [
        {
          "output_type": "execute_result",
          "data": {
            "text/plain": [
              "6115"
            ]
          },
          "metadata": {},
          "execution_count": 3
        }
      ]
    },
    {
      "cell_type": "markdown",
      "source": [
        "Converting the classes we want to classify to integers"
      ],
      "metadata": {
        "id": "H9FFvacUM0qV"
      }
    },
    {
      "cell_type": "code",
      "source": [
        "from sklearn.preprocessing import LabelEncoder\n",
        "\n",
        "le = LabelEncoder()\n",
        "labels = le.fit_transform(df['CLASS'])\n",
        "\n",
        "decoded_labels = le.inverse_transform(labels)\n",
        "print(set(labels), set(decoded_labels))"
      ],
      "metadata": {
        "colab": {
          "base_uri": "https://localhost:8080/"
        },
        "id": "EDgd_lD4Mx1e",
        "outputId": "bfc8347a-f0dc-45e6-9f1a-3cb4aff5da8d"
      },
      "execution_count": 4,
      "outputs": [
        {
          "output_type": "stream",
          "name": "stdout",
          "text": [
            "{0, 1, 2, 3, 4} {'Fission and Nuclear Technologies', 'Renewable Energy Sources', 'Energy Storage, Conversion, and Utilization', 'Fossil Fuels', 'Environmental Sciences'}\n"
          ]
        }
      ]
    },
    {
      "cell_type": "code",
      "source": [
        "df['LABEL'] = le.fit_transform(df['CLASS'])\n",
        "tmp_dict = df[['CLASS', 'LABEL']].drop_duplicates().set_index('LABEL').to_dict('index')\n",
        "CATEGORY_DICT = {label: sub_dict['CLASS'] for label, sub_dict in tmp_dict.items()}\n",
        "\n",
        "print(CATEGORY_DICT)"
      ],
      "metadata": {
        "colab": {
          "base_uri": "https://localhost:8080/"
        },
        "id": "QusGf9DnrDk2",
        "outputId": "03c56938-c588-48e3-e31b-e348210fdbd7"
      },
      "execution_count": 5,
      "outputs": [
        {
          "output_type": "stream",
          "name": "stdout",
          "text": [
            "{0: 'Energy Storage, Conversion, and Utilization', 1: 'Environmental Sciences', 2: 'Fission and Nuclear Technologies', 3: 'Fossil Fuels', 4: 'Renewable Energy Sources'}\n"
          ]
        }
      ]
    },
    {
      "cell_type": "code",
      "source": [],
      "metadata": {
        "id": "-Lnjrfl-sezI"
      },
      "execution_count": 5,
      "outputs": []
    },
    {
      "cell_type": "markdown",
      "source": [
        "Using the BERT_TOKENIZED column to create our dataloader with the intergerized labels"
      ],
      "metadata": {
        "id": "Q--Zmoy-KDPi"
      }
    },
    {
      "cell_type": "code",
      "source": [
        "!pip install transformers"
      ],
      "metadata": {
        "colab": {
          "base_uri": "https://localhost:8080/"
        },
        "id": "H1TyVyjSQsek",
        "outputId": "c8c38e01-6595-4cbb-b550-3fc12b665573"
      },
      "execution_count": 6,
      "outputs": [
        {
          "output_type": "stream",
          "name": "stdout",
          "text": [
            "Looking in indexes: https://pypi.org/simple, https://us-python.pkg.dev/colab-wheels/public/simple/\n",
            "Requirement already satisfied: transformers in /usr/local/lib/python3.10/dist-packages (4.29.2)\n",
            "Requirement already satisfied: filelock in /usr/local/lib/python3.10/dist-packages (from transformers) (3.12.0)\n",
            "Requirement already satisfied: huggingface-hub<1.0,>=0.14.1 in /usr/local/lib/python3.10/dist-packages (from transformers) (0.14.1)\n",
            "Requirement already satisfied: numpy>=1.17 in /usr/local/lib/python3.10/dist-packages (from transformers) (1.22.4)\n",
            "Requirement already satisfied: packaging>=20.0 in /usr/local/lib/python3.10/dist-packages (from transformers) (23.1)\n",
            "Requirement already satisfied: pyyaml>=5.1 in /usr/local/lib/python3.10/dist-packages (from transformers) (6.0)\n",
            "Requirement already satisfied: regex!=2019.12.17 in /usr/local/lib/python3.10/dist-packages (from transformers) (2022.10.31)\n",
            "Requirement already satisfied: requests in /usr/local/lib/python3.10/dist-packages (from transformers) (2.27.1)\n",
            "Requirement already satisfied: tokenizers!=0.11.3,<0.14,>=0.11.1 in /usr/local/lib/python3.10/dist-packages (from transformers) (0.13.3)\n",
            "Requirement already satisfied: tqdm>=4.27 in /usr/local/lib/python3.10/dist-packages (from transformers) (4.65.0)\n",
            "Requirement already satisfied: fsspec in /usr/local/lib/python3.10/dist-packages (from huggingface-hub<1.0,>=0.14.1->transformers) (2023.4.0)\n",
            "Requirement already satisfied: typing-extensions>=3.7.4.3 in /usr/local/lib/python3.10/dist-packages (from huggingface-hub<1.0,>=0.14.1->transformers) (4.5.0)\n",
            "Requirement already satisfied: urllib3<1.27,>=1.21.1 in /usr/local/lib/python3.10/dist-packages (from requests->transformers) (1.26.15)\n",
            "Requirement already satisfied: certifi>=2017.4.17 in /usr/local/lib/python3.10/dist-packages (from requests->transformers) (2022.12.7)\n",
            "Requirement already satisfied: charset-normalizer~=2.0.0 in /usr/local/lib/python3.10/dist-packages (from requests->transformers) (2.0.12)\n",
            "Requirement already satisfied: idna<4,>=2.5 in /usr/local/lib/python3.10/dist-packages (from requests->transformers) (3.4)\n"
          ]
        }
      ]
    },
    {
      "cell_type": "code",
      "source": [
        "from transformers import BertTokenizer\n",
        "\n",
        "#tokenizer = BertTokenizer.from_pretrained('bert-base-uncased')\n",
        "\n",
        "tokenizer = BertTokenizer.from_pretrained('bert-large-uncased')"
      ],
      "metadata": {
        "id": "-Rygpgi8QdO8"
      },
      "execution_count": 7,
      "outputs": []
    },
    {
      "cell_type": "code",
      "source": [
        "def tokenize_text(text):\n",
        "    \"\"\"\n",
        "    Truncating the text to 512 for consistency's sake\n",
        "    \"\"\"\n",
        "    return tokenizer.encode_plus(text,\n",
        "                                  add_special_tokens=True,\n",
        "                                  max_length=320,\n",
        "                                  padding='max_length',\n",
        "                                  return_attention_mask=True,\n",
        "                                  return_tensors='pt',\n",
        "                                  truncation=True)\n",
        "\n",
        "tokenized_text = df['DESCRIPTION'].apply(tokenize_text)"
      ],
      "metadata": {
        "id": "r6WORIG9QcUD"
      },
      "execution_count": 8,
      "outputs": []
    },
    {
      "cell_type": "code",
      "source": [
        "#"
      ],
      "metadata": {
        "id": "4_ibOLvLSLpx"
      },
      "execution_count": 9,
      "outputs": []
    },
    {
      "cell_type": "code",
      "source": [
        "from torch.utils.data import DataLoader, TensorDataset\n",
        "\n",
        "# create DataLoader - need to stack the lists of tensors into one tensor\n",
        "input_ids = torch.stack([row['input_ids'] for row in tokenized_text])\n",
        "attention_mask = torch.stack([row['attention_mask'] for row in tokenized_text])\n",
        "\n",
        "# Concatenating the Embeddings, Attention Mask and Labels\n",
        "dataset = TensorDataset(input_ids, attention_mask, torch.tensor(labels, dtype=torch.long))"
      ],
      "metadata": {
        "id": "kTV78DpVLqPG"
      },
      "execution_count": 10,
      "outputs": []
    },
    {
      "cell_type": "code",
      "source": [
        "# compute train/validation/test split sizes\n",
        "train_size = int(0.7 * len(dataset))\n",
        "val_size = int(0.15 * len(dataset))\n",
        "test_size = len(dataset) - train_size - val_size\n",
        "\n",
        "# split dataset randomly into train/validation/test sets\n",
        "train_data, val_data, test_data = random_split(dataset, [train_size, val_size, test_size])\n",
        "\n",
        "# create data loaders for each set\n",
        "train_loader = DataLoader(train_data, batch_size=32, shuffle=True)\n",
        "val_loader = DataLoader(val_data, batch_size=32, shuffle=True)\n",
        "test_loader = DataLoader(test_data, batch_size=32, shuffle=True)"
      ],
      "metadata": {
        "id": "HYkE6Sj0LOAv"
      },
      "execution_count": 11,
      "outputs": []
    },
    {
      "cell_type": "code",
      "source": [
        "import torch.nn as nn\n",
        "from transformers import BertForSequenceClassification\n",
        "\n",
        "model = BertForSequenceClassification.from_pretrained('bert-base-uncased', num_labels=len(labels))\n",
        "device = torch.device('cuda')\n",
        "model.to(device)"
      ],
      "metadata": {
        "colab": {
          "base_uri": "https://localhost:8080/"
        },
        "id": "GJKcmfkrKVYL",
        "outputId": "c59f7f34-f2ae-4d8b-d125-d93b742ba21e"
      },
      "execution_count": 12,
      "outputs": [
        {
          "output_type": "stream",
          "name": "stderr",
          "text": [
            "Some weights of the model checkpoint at bert-base-uncased were not used when initializing BertForSequenceClassification: ['cls.predictions.transform.dense.weight', 'cls.seq_relationship.bias', 'cls.predictions.transform.dense.bias', 'cls.predictions.decoder.weight', 'cls.seq_relationship.weight', 'cls.predictions.transform.LayerNorm.weight', 'cls.predictions.bias', 'cls.predictions.transform.LayerNorm.bias']\n",
            "- This IS expected if you are initializing BertForSequenceClassification from the checkpoint of a model trained on another task or with another architecture (e.g. initializing a BertForSequenceClassification model from a BertForPreTraining model).\n",
            "- This IS NOT expected if you are initializing BertForSequenceClassification from the checkpoint of a model that you expect to be exactly identical (initializing a BertForSequenceClassification model from a BertForSequenceClassification model).\n",
            "Some weights of BertForSequenceClassification were not initialized from the model checkpoint at bert-base-uncased and are newly initialized: ['classifier.bias', 'classifier.weight']\n",
            "You should probably TRAIN this model on a down-stream task to be able to use it for predictions and inference.\n"
          ]
        },
        {
          "output_type": "execute_result",
          "data": {
            "text/plain": [
              "BertForSequenceClassification(\n",
              "  (bert): BertModel(\n",
              "    (embeddings): BertEmbeddings(\n",
              "      (word_embeddings): Embedding(30522, 768, padding_idx=0)\n",
              "      (position_embeddings): Embedding(512, 768)\n",
              "      (token_type_embeddings): Embedding(2, 768)\n",
              "      (LayerNorm): LayerNorm((768,), eps=1e-12, elementwise_affine=True)\n",
              "      (dropout): Dropout(p=0.1, inplace=False)\n",
              "    )\n",
              "    (encoder): BertEncoder(\n",
              "      (layer): ModuleList(\n",
              "        (0-11): 12 x BertLayer(\n",
              "          (attention): BertAttention(\n",
              "            (self): BertSelfAttention(\n",
              "              (query): Linear(in_features=768, out_features=768, bias=True)\n",
              "              (key): Linear(in_features=768, out_features=768, bias=True)\n",
              "              (value): Linear(in_features=768, out_features=768, bias=True)\n",
              "              (dropout): Dropout(p=0.1, inplace=False)\n",
              "            )\n",
              "            (output): BertSelfOutput(\n",
              "              (dense): Linear(in_features=768, out_features=768, bias=True)\n",
              "              (LayerNorm): LayerNorm((768,), eps=1e-12, elementwise_affine=True)\n",
              "              (dropout): Dropout(p=0.1, inplace=False)\n",
              "            )\n",
              "          )\n",
              "          (intermediate): BertIntermediate(\n",
              "            (dense): Linear(in_features=768, out_features=3072, bias=True)\n",
              "            (intermediate_act_fn): GELUActivation()\n",
              "          )\n",
              "          (output): BertOutput(\n",
              "            (dense): Linear(in_features=3072, out_features=768, bias=True)\n",
              "            (LayerNorm): LayerNorm((768,), eps=1e-12, elementwise_affine=True)\n",
              "            (dropout): Dropout(p=0.1, inplace=False)\n",
              "          )\n",
              "        )\n",
              "      )\n",
              "    )\n",
              "    (pooler): BertPooler(\n",
              "      (dense): Linear(in_features=768, out_features=768, bias=True)\n",
              "      (activation): Tanh()\n",
              "    )\n",
              "  )\n",
              "  (dropout): Dropout(p=0.1, inplace=False)\n",
              "  (classifier): Linear(in_features=768, out_features=6115, bias=True)\n",
              ")"
            ]
          },
          "metadata": {},
          "execution_count": 12
        }
      ]
    },
    {
      "cell_type": "markdown",
      "source": [
        "### Step 2: Model Training"
      ],
      "metadata": {
        "id": "T2ADeIAaaPoy"
      }
    },
    {
      "cell_type": "code",
      "source": [
        "def train_model(model, train_data_loader, optimizer):\n",
        "    model.train()\n",
        "\n",
        "    for batch in train_data_loader:\n",
        "        input_ids, attention_mask, labels = batch\n",
        "        if USE_CUDA:\n",
        "                input_ids, attention_mask, labels = input_ids.squeeze(1).cuda(), attention_mask.cuda(), labels.cuda()\n",
        "        optimizer.zero_grad()\n",
        "        outputs = model(input_ids, attention_mask=attention_mask, labels=labels)\n",
        "        loss = torch.nn.functional.cross_entropy(outputs.logits, labels)\n",
        "\n",
        "        loss.backward()\n",
        "        optimizer.step()"
      ],
      "metadata": {
        "id": "eWwchBjUfmOt"
      },
      "execution_count": 13,
      "outputs": []
    },
    {
      "cell_type": "code",
      "source": [
        "from sklearn.metrics import confusion_matrix, classification_report\n"
      ],
      "metadata": {
        "id": "pbJuK-uW6r1t"
      },
      "execution_count": 14,
      "outputs": []
    },
    {
      "cell_type": "code",
      "source": [
        "def validate(model, data_loader, num_classes):\n",
        "    model.eval() # set model to evaluation mode\n",
        "    \n",
        "    # initialize performance metrics\n",
        "    num_correct = 0\n",
        "    num_samples = 0\n",
        "    losses = []\n",
        "    true_positives = [0] * num_classes\n",
        "    false_positives = [0] * num_classes\n",
        "    false_negatives = [0] * num_classes\n",
        "    \n",
        "    # create empty lists for storing predicted labels and true labels\n",
        "    all_preds = []\n",
        "    all_labels = []\n",
        "    \n",
        "    # iterate over batches in validation set\n",
        "    for batch in data_loader:\n",
        "        # extract inputs and targets from batch\n",
        "        input_ids, attention_mask, labels = batch\n",
        "        if USE_CUDA:\n",
        "            input_ids, attention_mask, labels = input_ids.squeeze(1).cuda(), attention_mask.cuda(), labels.cuda()\n",
        "\n",
        "        # compute model outputs and loss\n",
        "        with torch.no_grad():\n",
        "            outputs = model(input_ids, attention_mask=attention_mask)\n",
        "            loss = torch.nn.functional.cross_entropy(outputs.logits, labels)\n",
        "        \n",
        "        # update performance metrics\n",
        "        losses.append(loss.item())\n",
        "        _, preds = torch.max(outputs.logits, dim=1)\n",
        "        num_correct += (preds == labels).sum().item()\n",
        "        num_samples += labels.size(0)\n",
        "        \n",
        "        for i in range(num_classes):\n",
        "            true_positives[i] += ((preds == i) & (labels == i)).sum().item()\n",
        "            false_positives[i] += ((preds == i) & (labels != i)).sum().item()\n",
        "            false_negatives[i] += ((preds != i) & (labels == i)).sum().item()\n",
        "        \n",
        "        # append predicted labels and true labels to the lists\n",
        "        all_preds.extend(preds.cpu().numpy())\n",
        "        all_labels.extend(labels.cpu().numpy())\n",
        "    \n",
        "    # compute average loss and accuracy\n",
        "    avg_loss = sum(losses) / len(losses)\n",
        "    accuracy = num_correct / num_samples\n",
        "    \n",
        "    # compute precision, recall, and F1 score for each class\n",
        "    precision = []\n",
        "    recall = []\n",
        "    f1_score = []\n",
        "    confusion_matrices = []\n",
        "    for i in range(num_classes):\n",
        "        precision.append(true_positives[i] / (true_positives[i] + false_positives[i] + 1e-10))\n",
        "        recall.append(true_positives[i] / (true_positives[i] + false_negatives[i] + 1e-10))\n",
        "        f1_score.append(2 * (precision[i] * recall[i]) / (precision[i] + recall[i] + 1e-10))\n",
        "\n",
        "                    # create confusion matrix for the current class\n",
        "    \n",
        "    print(f'Validation Loss: {avg_loss:.4f} | Accuracy: {accuracy:.4f}')\n",
        "    print(f'Precision: {precision}')\n",
        "    print(f'Recall: {recall}')\n",
        "    print(f'F1 Score: {f1_score}')\n",
        "\n",
        "    # create confusion matrix\n",
        "    cm = confusion_matrix(all_labels, all_preds)\n",
        "    print(\"Confusion Matrix:\")\n",
        "    print(cm)\n",
        "\n",
        "\n",
        "     # Add labels for the classification report\n",
        "    predicted_labels = [CATEGORY_DICT[pred] for pred in all_preds]\n",
        "    true_labels = [CATEGORY_DICT[true] for true in all_labels]\n",
        "    report = classification_report(predicted_labels, true_labels)\n",
        "    print(report)\n",
        "\n",
        "    return avg_loss, accuracy, precision, recall, f1_score, cm"
      ],
      "metadata": {
        "id": "6_1gSIM3ga2A"
      },
      "execution_count": 21,
      "outputs": []
    },
    {
      "cell_type": "code",
      "source": [
        "num_epochs = 5\n",
        "\n",
        "optimizer = torch.optim.Adam(model.parameters(), lr=1e-5)\n",
        "loss_fn = nn.CrossEntropyLoss()\n",
        "val_loss = []\n",
        "val_acc = []\n",
        "for epoch in range(num_epochs):\n",
        "    print(f'Epoch {epoch+1}/{num_epochs}')\n",
        "    \n",
        "    # train model on training set\n",
        "    train_model(model, train_loader, optimizer)\n",
        "    \n",
        "    # validate model on validation set\n",
        "    avg_loss, accuracy, precision, recall, f1_score, cm = validate(model, val_loader, 5)\n",
        "    val_loss.append(avg_loss)\n",
        "    val_acc.append(accuracy)"
      ],
      "metadata": {
        "colab": {
          "base_uri": "https://localhost:8080/"
        },
        "id": "p0Ys_DFKaAOz",
        "outputId": "40772bcd-2b35-4478-9683-1d2ba4269b82"
      },
      "execution_count": 16,
      "outputs": [
        {
          "output_type": "stream",
          "name": "stdout",
          "text": [
            "Epoch 1/5\n",
            "Validation Loss: 4.5989 | Accuracy: 0.2879\n",
            "Precision: [0.9199999999963201, 0.9285714285647959, 0.23313609467452862, 0.9393939393910927, 0.0]\n",
            "Recall: [0.12169312169305731, 0.07262569832398177, 0.9999999999994924, 0.1565656565655775, 0.0]\n",
            "F1 Score: [0.2149532710072015, 0.13471502589314077, 0.37811900188865, 0.26839826837354624, 0.0]\n",
            "Confusion Matrix:\n",
            "[[ 23   0 166   0   0]\n",
            " [  0  13 166   0   0]\n",
            " [  0   0 197   0   0]\n",
            " [  0   1 166  31   0]\n",
            " [  2   0 150   2   0]]\n",
            "              precision    recall  f1-score   support\n",
            "\n",
            "           0       0.92      0.12      0.21       189\n",
            "           1       0.93      0.07      0.13       179\n",
            "           2       0.23      1.00      0.38       197\n",
            "           3       0.94      0.16      0.27       198\n",
            "           4       0.00      0.00      0.00       154\n",
            "\n",
            "    accuracy                           0.29       917\n",
            "   macro avg       0.60      0.27      0.20       917\n",
            "weighted avg       0.62      0.29      0.21       917\n",
            "\n",
            "Epoch 2/5\n"
          ]
        },
        {
          "output_type": "stream",
          "name": "stderr",
          "text": [
            "/usr/local/lib/python3.10/dist-packages/sklearn/metrics/_classification.py:1344: UndefinedMetricWarning: Precision and F-score are ill-defined and being set to 0.0 in labels with no predicted samples. Use `zero_division` parameter to control this behavior.\n",
            "  _warn_prf(average, modifier, msg_start, len(result))\n",
            "/usr/local/lib/python3.10/dist-packages/sklearn/metrics/_classification.py:1344: UndefinedMetricWarning: Precision and F-score are ill-defined and being set to 0.0 in labels with no predicted samples. Use `zero_division` parameter to control this behavior.\n",
            "  _warn_prf(average, modifier, msg_start, len(result))\n",
            "/usr/local/lib/python3.10/dist-packages/sklearn/metrics/_classification.py:1344: UndefinedMetricWarning: Precision and F-score are ill-defined and being set to 0.0 in labels with no predicted samples. Use `zero_division` parameter to control this behavior.\n",
            "  _warn_prf(average, modifier, msg_start, len(result))\n"
          ]
        },
        {
          "output_type": "stream",
          "name": "stdout",
          "text": [
            "Validation Loss: 2.1750 | Accuracy: 0.6260\n",
            "Precision: [0.7823529411760104, 0.7872340425526332, 0.43693693693683855, 0.839506172838988, 0.0]\n",
            "Recall: [0.7037037037033315, 0.620111731843229, 0.984771573603561, 0.68686868686834, 0.0]\n",
            "F1 Score: [0.7409470751586409, 0.6937499999502714, 0.6053042121257222, 0.7555555555056358, 0.0]\n",
            "Confusion Matrix:\n",
            "[[133   5  45   6   0]\n",
            " [  4 111  55   9   0]\n",
            " [  1   2 194   0   0]\n",
            " [  4   4  54 136   0]\n",
            " [ 28  19  96  11   0]]\n",
            "              precision    recall  f1-score   support\n",
            "\n",
            "           0       0.78      0.70      0.74       189\n",
            "           1       0.79      0.62      0.69       179\n",
            "           2       0.44      0.98      0.61       197\n",
            "           3       0.84      0.69      0.76       198\n",
            "           4       0.00      0.00      0.00       154\n",
            "\n",
            "    accuracy                           0.63       917\n",
            "   macro avg       0.57      0.60      0.56       917\n",
            "weighted avg       0.59      0.63      0.58       917\n",
            "\n",
            "Epoch 3/5\n"
          ]
        },
        {
          "output_type": "stream",
          "name": "stderr",
          "text": [
            "/usr/local/lib/python3.10/dist-packages/sklearn/metrics/_classification.py:1344: UndefinedMetricWarning: Precision and F-score are ill-defined and being set to 0.0 in labels with no predicted samples. Use `zero_division` parameter to control this behavior.\n",
            "  _warn_prf(average, modifier, msg_start, len(result))\n",
            "/usr/local/lib/python3.10/dist-packages/sklearn/metrics/_classification.py:1344: UndefinedMetricWarning: Precision and F-score are ill-defined and being set to 0.0 in labels with no predicted samples. Use `zero_division` parameter to control this behavior.\n",
            "  _warn_prf(average, modifier, msg_start, len(result))\n",
            "/usr/local/lib/python3.10/dist-packages/sklearn/metrics/_classification.py:1344: UndefinedMetricWarning: Precision and F-score are ill-defined and being set to 0.0 in labels with no predicted samples. Use `zero_division` parameter to control this behavior.\n",
            "  _warn_prf(average, modifier, msg_start, len(result))\n"
          ]
        },
        {
          "output_type": "stream",
          "name": "stdout",
          "text": [
            "Validation Loss: 1.2066 | Accuracy: 0.7710\n",
            "Precision: [0.7511737089198351, 0.7558139534879327, 0.8284313725486135, 0.7422222222218924, 0.7864077669895277]\n",
            "Recall: [0.8465608465603986, 0.7262569832398178, 0.8578680203041331, 0.8434343434339175, 0.5259740259736845]\n",
            "F1 Score: [0.7960199004472945, 0.7407407406903387, 0.8428927680293954, 0.7895981086968753, 0.6303501945040076]\n",
            "Confusion Matrix:\n",
            "[[160   8   5  10   6]\n",
            " [  7 130  22  16   4]\n",
            " [ 11  10 169   4   3]\n",
            " [ 13   7   2 167   9]\n",
            " [ 22  17   6  28  81]]\n",
            "              precision    recall  f1-score   support\n",
            "\n",
            "           0       0.75      0.85      0.80       189\n",
            "           1       0.76      0.73      0.74       179\n",
            "           2       0.83      0.86      0.84       197\n",
            "           3       0.74      0.84      0.79       198\n",
            "           4       0.79      0.53      0.63       154\n",
            "\n",
            "    accuracy                           0.77       917\n",
            "   macro avg       0.77      0.76      0.76       917\n",
            "weighted avg       0.77      0.77      0.77       917\n",
            "\n",
            "Epoch 4/5\n",
            "Validation Loss: 0.8502 | Accuracy: 0.7830\n",
            "Precision: [0.8444444444439754, 0.8355263157889241, 0.838383838383415, 0.7715736040605221, 0.6368421052628228]\n",
            "Recall: [0.8042328042323788, 0.7094972067035143, 0.8426395939082018, 0.76767676767638, 0.7857142857137756]\n",
            "F1 Score: [0.8238482384319681, 0.7673716011583284, 0.8405063290634988, 0.7696202531141677, 0.7034883720431618]\n",
            "Confusion Matrix:\n",
            "[[152  11   5  10  11]\n",
            " [  5 127  20  14  13]\n",
            " [  5   6 166   4  16]\n",
            " [ 11   6   0 152  29]\n",
            " [  7   2   7  17 121]]\n",
            "              precision    recall  f1-score   support\n",
            "\n",
            "           0       0.84      0.80      0.82       189\n",
            "           1       0.84      0.71      0.77       179\n",
            "           2       0.84      0.84      0.84       197\n",
            "           3       0.77      0.77      0.77       198\n",
            "           4       0.64      0.79      0.70       154\n",
            "\n",
            "    accuracy                           0.78       917\n",
            "   macro avg       0.79      0.78      0.78       917\n",
            "weighted avg       0.79      0.78      0.78       917\n",
            "\n",
            "Epoch 5/5\n",
            "Validation Loss: 0.7338 | Accuracy: 0.7917\n",
            "Precision: [0.857954545454058, 0.8543046357610237, 0.8407960199000792, 0.7718446601938002, 0.6448087431690466]\n",
            "Recall: [0.7989417989413763, 0.7206703910610499, 0.8578680203041331, 0.8030303030298975, 0.7662337662332688]\n",
            "F1 Score: [0.8273972602235826, 0.7818181817680679, 0.8492462311053571, 0.7871287128209172, 0.7002967358549992]\n",
            "Confusion Matrix:\n",
            "[[151  11   5   8  14]\n",
            " [  5 129  17  15  13]\n",
            " [  5   6 169   3  14]\n",
            " [  9   4   2 159  24]\n",
            " [  6   1   8  21 118]]\n",
            "              precision    recall  f1-score   support\n",
            "\n",
            "           0       0.86      0.80      0.83       189\n",
            "           1       0.85      0.72      0.78       179\n",
            "           2       0.84      0.86      0.85       197\n",
            "           3       0.77      0.80      0.79       198\n",
            "           4       0.64      0.77      0.70       154\n",
            "\n",
            "    accuracy                           0.79       917\n",
            "   macro avg       0.79      0.79      0.79       917\n",
            "weighted avg       0.80      0.79      0.79       917\n",
            "\n"
          ]
        }
      ]
    },
    {
      "cell_type": "code",
      "source": [
        "import matplotlib.pyplot as plt\n",
        "\n",
        "# plot validation loss\n",
        "plt.plot(range(1, num_epochs+1), val_acc)\n",
        "plt.xlabel('Epoch')\n",
        "plt.ylabel('Validation Accuracy')\n",
        "plt.title('BERT: Validation Accuracy vs. Epoch')\n",
        "plt.show()"
      ],
      "metadata": {
        "colab": {
          "base_uri": "https://localhost:8080/",
          "height": 472
        },
        "id": "zMy76L1WdSo2",
        "outputId": "f4a61039-fa3a-4457-b24b-134ea62add6f"
      },
      "execution_count": 17,
      "outputs": [
        {
          "output_type": "display_data",
          "data": {
            "text/plain": [
              "<Figure size 640x480 with 1 Axes>"
            ],
            "image/png": "[encoded data removed]"
          },
          "metadata": {}
        }
      ]
    },
    {
      "cell_type": "code",
      "source": [
        "avg_loss, accuracy, precision, recall, f1_score, cm = validate(model, test_loader, 5)"
      ],
      "metadata": {
        "colab": {
          "base_uri": "https://localhost:8080/"
        },
        "id": "xFZlSa9w53-F",
        "outputId": "3662cd41-3247-41d1-8d0d-c34c634824c9"
      },
      "execution_count": 23,
      "outputs": [
        {
          "output_type": "stream",
          "name": "stdout",
          "text": [
            "Validation Loss: 0.6777 | Accuracy: 0.8148\n",
            "Precision: [0.8857142857136532, 0.8961038961033143, 0.8465116279065831, 0.7688442211051413, 0.7190476190472767]\n",
            "Recall: [0.7848101265817818, 0.7301587301583439, 0.8965517241374894, 0.8499999999995278, 0.8031914893612749]\n",
            "F1 Score: [0.8322147650502951, 0.8046647229821214, 0.8708133970788112, 0.8073878627465334, 0.7587939697990178]\n",
            "Confusion Matrix:\n",
            "[[124   3   4   8  19]\n",
            " [  3 138  15  15  18]\n",
            " [  3   5 182   2  11]\n",
            " [  4   6   6 153  11]\n",
            " [  6   2   8  21 151]]\n",
            "                                             precision    recall  f1-score   support\n",
            "\n",
            "Energy Storage, Conversion, and Utilization       0.78      0.89      0.83       140\n",
            "                     Environmental Sciences       0.73      0.90      0.80       154\n",
            "           Fission and Nuclear Technologies       0.90      0.85      0.87       215\n",
            "                               Fossil Fuels       0.85      0.77      0.81       199\n",
            "                   Renewable Energy Sources       0.80      0.72      0.76       210\n",
            "\n",
            "                                   accuracy                           0.81       918\n",
            "                                  macro avg       0.81      0.82      0.81       918\n",
            "                               weighted avg       0.82      0.81      0.81       918\n",
            "\n"
          ]
        }
      ]
    },
    {
      "cell_type": "code",
      "source": [
        "import numpy as np\n",
        "import seaborn as sns\n",
        "import matplotlib.pyplot as plt\n",
        "from sklearn.metrics import confusion_matrix\n",
        "\n",
        "# Calculate percentages\n",
        "cm = (cm / cm.sum(axis=1)) * 100\n",
        "\n",
        "# Define the class labels\n",
        "class_labels = ['Energy Storage, Conversion, and Utilization', 'Environmental Sciences',\n",
        "                'Fission and Nuclear Technologies', 'Fossil Fuels', 'Renewable Energy Sources']\n",
        "\n",
        "# Create a figure and axis\n",
        "fig, ax = plt.subplots()\n",
        "\n",
        "# Create a heatmap using seaborn\n",
        "sns.heatmap(cm, annot=True, cmap='Blues', cbar=False,\n",
        "            xticklabels=class_labels, yticklabels=class_labels, ax=ax)\n",
        "\n",
        "# Set labels, title, and axis ticks\n",
        "ax.set_xlabel('Predicted')\n",
        "ax.set_ylabel('True')\n",
        "ax.set_title('Confusion Matrix (Percentages)')\n",
        "ax.xaxis.set_ticklabels(class_labels, rotation=45, ha='right')\n",
        "ax.yaxis.set_ticklabels(class_labels, rotation=0)\n",
        "\n",
        "\n",
        "# Display the plot\n",
        "plt.show()"
      ],
      "metadata": {
        "id": "t9vwM4Wq6pkp",
        "colab": {
          "base_uri": "https://localhost:8080/",
          "height": 682
        },
        "outputId": "167ba427-9294-4b6a-ba1a-6f5a02edd448"
      },
      "execution_count": 48,
      "outputs": [
        {
          "output_type": "display_data",
          "data": {
            "text/plain": [
              "<Figure size 640x480 with 1 Axes>"
            ],
            "image/png": "[encoded data removed]"
          },
          "metadata": {}
        }
      ]
    }
  ]
}