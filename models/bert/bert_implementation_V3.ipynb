{
  "nbformat": 4,
  "nbformat_minor": 0,
  "metadata": {
    "colab": {
      "provenance": [],
      "gpuType": "T4"
    },
    "kernelspec": {
      "name": "python3",
      "display_name": "Python 3"
    },
    "language_info": {
      "name": "python"
    },
    "accelerator": "GPU",
    "gpuClass": "standard"
  },
  "cells": [
    {
      "cell_type": "markdown",
      "source": [
        "## Using BERT to Classify text \n",
        "\n"
      ],
      "metadata": {
        "id": "-H28DXBkFYUG"
      }
    },
    {
      "cell_type": "code",
      "execution_count": 1,
      "metadata": {
        "colab": {
          "base_uri": "https://localhost:8080/"
        },
        "id": "kvGYWOeMBBkj",
        "outputId": "faa5d737-6379-4efe-9f23-4b9b84f530bc"
      },
      "outputs": [
        {
          "output_type": "stream",
          "name": "stdout",
          "text": [
            "Using cuda.\n",
            "Drive already mounted at /content/gdrive; to attempt to forcibly remount, call drive.mount(\"/content/gdrive\", force_remount=True).\n"
          ]
        }
      ],
      "source": [
        "import os\n",
        "import random\n",
        "import datetime\n",
        "import numpy as np\n",
        "import torch\n",
        "import pandas as pd\n",
        "from torch.utils.data import Dataset, DataLoader, random_split\n",
        "\n",
        "import torchtext\n",
        "from torchtext.data.utils import get_tokenizer\n",
        "from torchtext.vocab import Vectors, build_vocab_from_iterator\n",
        "\n",
        "\n",
        "USE_CUDA = torch.cuda.is_available()\n",
        "\n",
        "if USE_CUDA:\n",
        "    DEVICE = torch.device('cuda')\n",
        "    print(\"Using cuda.\")\n",
        "else:\n",
        "    DEVICE = torch.device('cpu')\n",
        "    print(\"Using cpu.\")\n",
        "\n",
        "seed = 30255    \n",
        "random.seed(seed)\n",
        "np.random.seed(seed)\n",
        "torch.manual_seed(seed)\n",
        "if USE_CUDA:\n",
        "    torch.cuda.manual_seed(seed)\n",
        "\n",
        "COLAB = True\n",
        "\n",
        "if COLAB:\n",
        "    from google.colab import drive \n",
        "    drive.mount('/content/gdrive')\n",
        "    PATH = \"gdrive/Shareddrives/Adv ML Project/Data/\"\n",
        "else:\n",
        "    # Change path to appropriate location\n",
        "    PATH = \"/Users/kilaf/OneDrive - The University of Chicago/CAPP255/Project\"\n",
        "    "
      ]
    },
    {
      "cell_type": "markdown",
      "source": [
        "Step 1: Load in pre-processed data and split into train, validation and test datasets using seed 30255"
      ],
      "metadata": {
        "id": "eS1Gq1XNGRan"
      }
    },
    {
      "cell_type": "code",
      "execution_count": 2,
      "metadata": {
        "id": "8qV6yPCfFROn"
      },
      "outputs": [],
      "source": [
        "df = pd.read_csv(os.path.join(PATH + \"preprocessed_data.csv\"))"
      ]
    },
    {
      "cell_type": "code",
      "source": [
        "len(df)"
      ],
      "metadata": {
        "colab": {
          "base_uri": "https://localhost:8080/"
        },
        "id": "LwQTTYRnJz5P",
        "outputId": "6b0e36e8-fada-45f9-a931-6b04f636acc8"
      },
      "execution_count": 3,
      "outputs": [
        {
          "output_type": "execute_result",
          "data": {
            "text/plain": [
              "6115"
            ]
          },
          "metadata": {},
          "execution_count": 3
        }
      ]
    },
    {
      "cell_type": "markdown",
      "source": [
        "Converting the classes we want to classify to integers"
      ],
      "metadata": {
        "id": "H9FFvacUM0qV"
      }
    },
    {
      "cell_type": "code",
      "source": [
        "from sklearn.preprocessing import LabelEncoder\n",
        "\n",
        "le = LabelEncoder()\n",
        "labels = le.fit_transform(df['CLASS'])\n",
        "\n",
        "decoded_labels = le.inverse_transform(labels)\n",
        "print(set(labels), set(decoded_labels))"
      ],
      "metadata": {
        "colab": {
          "base_uri": "https://localhost:8080/"
        },
        "id": "EDgd_lD4Mx1e",
        "outputId": "f2301ca3-ee4b-44d8-afe3-a3735dd22ce0"
      },
      "execution_count": 4,
      "outputs": [
        {
          "output_type": "stream",
          "name": "stdout",
          "text": [
            "{0, 1, 2, 3, 4} {'Fossil Fuels', 'Energy Storage, Conversion, and Utilization', 'Fission and Nuclear Technologies', 'Renewable Energy Sources', 'Environmental Sciences'}\n"
          ]
        }
      ]
    },
    {
      "cell_type": "markdown",
      "source": [
        "Using the BERT_TOKENIZED column to create our dataloader with the intergerized labels"
      ],
      "metadata": {
        "id": "Q--Zmoy-KDPi"
      }
    },
    {
      "cell_type": "code",
      "source": [
        "!pip install transformers"
      ],
      "metadata": {
        "colab": {
          "base_uri": "https://localhost:8080/"
        },
        "id": "H1TyVyjSQsek",
        "outputId": "a6fd88d0-bc47-40d2-d5b4-0907247621f8"
      },
      "execution_count": 5,
      "outputs": [
        {
          "output_type": "stream",
          "name": "stdout",
          "text": [
            "Looking in indexes: https://pypi.org/simple, https://us-python.pkg.dev/colab-wheels/public/simple/\n",
            "Requirement already satisfied: transformers in /usr/local/lib/python3.10/dist-packages (4.29.2)\n",
            "Requirement already satisfied: filelock in /usr/local/lib/python3.10/dist-packages (from transformers) (3.12.0)\n",
            "Requirement already satisfied: huggingface-hub<1.0,>=0.14.1 in /usr/local/lib/python3.10/dist-packages (from transformers) (0.14.1)\n",
            "Requirement already satisfied: numpy>=1.17 in /usr/local/lib/python3.10/dist-packages (from transformers) (1.22.4)\n",
            "Requirement already satisfied: packaging>=20.0 in /usr/local/lib/python3.10/dist-packages (from transformers) (23.1)\n",
            "Requirement already satisfied: pyyaml>=5.1 in /usr/local/lib/python3.10/dist-packages (from transformers) (6.0)\n",
            "Requirement already satisfied: regex!=2019.12.17 in /usr/local/lib/python3.10/dist-packages (from transformers) (2022.10.31)\n",
            "Requirement already satisfied: requests in /usr/local/lib/python3.10/dist-packages (from transformers) (2.27.1)\n",
            "Requirement already satisfied: tokenizers!=0.11.3,<0.14,>=0.11.1 in /usr/local/lib/python3.10/dist-packages (from transformers) (0.13.3)\n",
            "Requirement already satisfied: tqdm>=4.27 in /usr/local/lib/python3.10/dist-packages (from transformers) (4.65.0)\n",
            "Requirement already satisfied: fsspec in /usr/local/lib/python3.10/dist-packages (from huggingface-hub<1.0,>=0.14.1->transformers) (2023.4.0)\n",
            "Requirement already satisfied: typing-extensions>=3.7.4.3 in /usr/local/lib/python3.10/dist-packages (from huggingface-hub<1.0,>=0.14.1->transformers) (4.5.0)\n",
            "Requirement already satisfied: urllib3<1.27,>=1.21.1 in /usr/local/lib/python3.10/dist-packages (from requests->transformers) (1.26.15)\n",
            "Requirement already satisfied: certifi>=2017.4.17 in /usr/local/lib/python3.10/dist-packages (from requests->transformers) (2022.12.7)\n",
            "Requirement already satisfied: charset-normalizer~=2.0.0 in /usr/local/lib/python3.10/dist-packages (from requests->transformers) (2.0.12)\n",
            "Requirement already satisfied: idna<4,>=2.5 in /usr/local/lib/python3.10/dist-packages (from requests->transformers) (3.4)\n"
          ]
        }
      ]
    },
    {
      "cell_type": "code",
      "source": [
        "from transformers import BertTokenizer\n",
        "\n",
        "#tokenizer = BertTokenizer.from_pretrained('bert-base-uncased')\n",
        "\n",
        "tokenizer = BertTokenizer.from_pretrained('bert-large-uncased')"
      ],
      "metadata": {
        "id": "-Rygpgi8QdO8"
      },
      "execution_count": 6,
      "outputs": []
    },
    {
      "cell_type": "code",
      "source": [
        "def tokenize_text(text):\n",
        "    \"\"\"\n",
        "    Truncating the text to 512 for consistency's sake\n",
        "    \"\"\"\n",
        "    return tokenizer.encode_plus(text,\n",
        "                                  add_special_tokens=True,\n",
        "                                  max_length=320,\n",
        "                                  padding='max_length',\n",
        "                                  return_attention_mask=True,\n",
        "                                  return_tensors='pt',\n",
        "                                  truncation=True)\n",
        "\n",
        "tokenized_text = df['DESCRIPTION'].apply(tokenize_text)"
      ],
      "metadata": {
        "id": "r6WORIG9QcUD"
      },
      "execution_count": 7,
      "outputs": []
    },
    {
      "cell_type": "code",
      "source": [
        "#"
      ],
      "metadata": {
        "id": "4_ibOLvLSLpx"
      },
      "execution_count": 8,
      "outputs": []
    },
    {
      "cell_type": "code",
      "source": [
        "from torch.utils.data import DataLoader, TensorDataset\n",
        "\n",
        "# create DataLoader - need to stack the lists of tensors into one tensor\n",
        "input_ids = torch.stack([row['input_ids'] for row in tokenized_text])\n",
        "attention_mask = torch.stack([row['attention_mask'] for row in tokenized_text])\n",
        "\n",
        "# Concatenating the Embeddings, Attention Mask and Labels\n",
        "dataset = TensorDataset(input_ids, attention_mask, torch.tensor(labels, dtype=torch.long))"
      ],
      "metadata": {
        "id": "kTV78DpVLqPG"
      },
      "execution_count": 9,
      "outputs": []
    },
    {
      "cell_type": "code",
      "source": [
        "# compute train/validation/test split sizes\n",
        "train_size = int(0.7 * len(dataset))\n",
        "val_size = int(0.15 * len(dataset))\n",
        "test_size = len(dataset) - train_size - val_size\n",
        "\n",
        "# split dataset randomly into train/validation/test sets\n",
        "train_data, val_data, test_data = random_split(dataset, [train_size, val_size, test_size])\n",
        "\n",
        "# create data loaders for each set\n",
        "train_loader = DataLoader(train_data, batch_size=32, shuffle=True)\n",
        "val_loader = DataLoader(val_data, batch_size=32, shuffle=True)\n",
        "test_loader = DataLoader(test_data, batch_size=32, shuffle=True)"
      ],
      "metadata": {
        "id": "HYkE6Sj0LOAv"
      },
      "execution_count": 10,
      "outputs": []
    },
    {
      "cell_type": "code",
      "source": [
        "import torch.nn as nn\n",
        "from transformers import BertForSequenceClassification\n",
        "\n",
        "model = BertForSequenceClassification.from_pretrained('bert-base-uncased', num_labels=len(labels))\n",
        "device = torch.device('cuda')\n",
        "model.to(device)"
      ],
      "metadata": {
        "colab": {
          "base_uri": "https://localhost:8080/"
        },
        "id": "GJKcmfkrKVYL",
        "outputId": "fd7b2f91-027d-46b6-dfa2-283c3fb56519"
      },
      "execution_count": 11,
      "outputs": [
        {
          "output_type": "stream",
          "name": "stderr",
          "text": [
            "Some weights of the model checkpoint at bert-base-uncased were not used when initializing BertForSequenceClassification: ['cls.predictions.transform.dense.weight', 'cls.seq_relationship.bias', 'cls.predictions.transform.LayerNorm.weight', 'cls.predictions.transform.LayerNorm.bias', 'cls.seq_relationship.weight', 'cls.predictions.transform.dense.bias', 'cls.predictions.decoder.weight', 'cls.predictions.bias']\n",
            "- This IS expected if you are initializing BertForSequenceClassification from the checkpoint of a model trained on another task or with another architecture (e.g. initializing a BertForSequenceClassification model from a BertForPreTraining model).\n",
            "- This IS NOT expected if you are initializing BertForSequenceClassification from the checkpoint of a model that you expect to be exactly identical (initializing a BertForSequenceClassification model from a BertForSequenceClassification model).\n",
            "Some weights of BertForSequenceClassification were not initialized from the model checkpoint at bert-base-uncased and are newly initialized: ['classifier.bias', 'classifier.weight']\n",
            "You should probably TRAIN this model on a down-stream task to be able to use it for predictions and inference.\n"
          ]
        },
        {
          "output_type": "execute_result",
          "data": {
            "text/plain": [
              "BertForSequenceClassification(\n",
              "  (bert): BertModel(\n",
              "    (embeddings): BertEmbeddings(\n",
              "      (word_embeddings): Embedding(30522, 768, padding_idx=0)\n",
              "      (position_embeddings): Embedding(512, 768)\n",
              "      (token_type_embeddings): Embedding(2, 768)\n",
              "      (LayerNorm): LayerNorm((768,), eps=1e-12, elementwise_affine=True)\n",
              "      (dropout): Dropout(p=0.1, inplace=False)\n",
              "    )\n",
              "    (encoder): BertEncoder(\n",
              "      (layer): ModuleList(\n",
              "        (0-11): 12 x BertLayer(\n",
              "          (attention): BertAttention(\n",
              "            (self): BertSelfAttention(\n",
              "              (query): Linear(in_features=768, out_features=768, bias=True)\n",
              "              (key): Linear(in_features=768, out_features=768, bias=True)\n",
              "              (value): Linear(in_features=768, out_features=768, bias=True)\n",
              "              (dropout): Dropout(p=0.1, inplace=False)\n",
              "            )\n",
              "            (output): BertSelfOutput(\n",
              "              (dense): Linear(in_features=768, out_features=768, bias=True)\n",
              "              (LayerNorm): LayerNorm((768,), eps=1e-12, elementwise_affine=True)\n",
              "              (dropout): Dropout(p=0.1, inplace=False)\n",
              "            )\n",
              "          )\n",
              "          (intermediate): BertIntermediate(\n",
              "            (dense): Linear(in_features=768, out_features=3072, bias=True)\n",
              "            (intermediate_act_fn): GELUActivation()\n",
              "          )\n",
              "          (output): BertOutput(\n",
              "            (dense): Linear(in_features=3072, out_features=768, bias=True)\n",
              "            (LayerNorm): LayerNorm((768,), eps=1e-12, elementwise_affine=True)\n",
              "            (dropout): Dropout(p=0.1, inplace=False)\n",
              "          )\n",
              "        )\n",
              "      )\n",
              "    )\n",
              "    (pooler): BertPooler(\n",
              "      (dense): Linear(in_features=768, out_features=768, bias=True)\n",
              "      (activation): Tanh()\n",
              "    )\n",
              "  )\n",
              "  (dropout): Dropout(p=0.1, inplace=False)\n",
              "  (classifier): Linear(in_features=768, out_features=6115, bias=True)\n",
              ")"
            ]
          },
          "metadata": {},
          "execution_count": 11
        }
      ]
    },
    {
      "cell_type": "markdown",
      "source": [
        "### Step 2: Model Training"
      ],
      "metadata": {
        "id": "T2ADeIAaaPoy"
      }
    },
    {
      "cell_type": "code",
      "source": [
        "def train_model(model, train_data_loader, optimizer):\n",
        "    model.train()\n",
        "\n",
        "    for batch in train_data_loader:\n",
        "        input_ids, attention_mask, labels = batch\n",
        "        if USE_CUDA:\n",
        "                input_ids, attention_mask, labels = input_ids.squeeze(1).cuda(), attention_mask.cuda(), labels.cuda()\n",
        "        optimizer.zero_grad()\n",
        "        outputs = model(input_ids, attention_mask=attention_mask, labels=labels)\n",
        "        loss = torch.nn.functional.cross_entropy(outputs.logits, labels)\n",
        "\n",
        "        loss.backward()\n",
        "        optimizer.step()"
      ],
      "metadata": {
        "id": "eWwchBjUfmOt"
      },
      "execution_count": 12,
      "outputs": []
    },
    {
      "cell_type": "code",
      "source": [
        "from sklearn.metrics import confusion_matrix"
      ],
      "metadata": {
        "id": "pbJuK-uW6r1t"
      },
      "execution_count": 13,
      "outputs": []
    },
    {
      "cell_type": "code",
      "source": [
        "def validate(model, data_loader, num_classes):\n",
        "    model.eval() # set model to evaluation mode\n",
        "    \n",
        "    # initialize performance metrics\n",
        "    num_correct = 0\n",
        "    num_samples = 0\n",
        "    losses = []\n",
        "    true_positives = [0] * num_classes\n",
        "    false_positives = [0] * num_classes\n",
        "    false_negatives = [0] * num_classes\n",
        "    \n",
        "    # create empty lists for storing predicted labels and true labels\n",
        "    all_preds = []\n",
        "    all_labels = []\n",
        "    \n",
        "    # iterate over batches in validation set\n",
        "    for batch in data_loader:\n",
        "        # extract inputs and targets from batch\n",
        "        input_ids, attention_mask, labels = batch\n",
        "        if USE_CUDA:\n",
        "            input_ids, attention_mask, labels = input_ids.squeeze(1).cuda(), attention_mask.cuda(), labels.cuda()\n",
        "\n",
        "        # compute model outputs and loss\n",
        "        with torch.no_grad():\n",
        "            outputs = model(input_ids, attention_mask=attention_mask)\n",
        "            loss = torch.nn.functional.cross_entropy(outputs.logits, labels)\n",
        "        \n",
        "        # update performance metrics\n",
        "        losses.append(loss.item())\n",
        "        _, preds = torch.max(outputs.logits, dim=1)\n",
        "        num_correct += (preds == labels).sum().item()\n",
        "        num_samples += labels.size(0)\n",
        "        \n",
        "        for i in range(num_classes):\n",
        "            true_positives[i] += ((preds == i) & (labels == i)).sum().item()\n",
        "            false_positives[i] += ((preds == i) & (labels != i)).sum().item()\n",
        "            false_negatives[i] += ((preds != i) & (labels == i)).sum().item()\n",
        "        \n",
        "        # append predicted labels and true labels to the lists\n",
        "        all_preds.extend(preds.cpu().numpy())\n",
        "        all_labels.extend(labels.cpu().numpy())\n",
        "    \n",
        "    # compute average loss and accuracy\n",
        "    avg_loss = sum(losses) / len(losses)\n",
        "    accuracy = num_correct / num_samples\n",
        "    \n",
        "    # compute precision, recall, and F1 score for each class\n",
        "    precision = []\n",
        "    recall = []\n",
        "    f1_score = []\n",
        "    confusion_matrices = []\n",
        "    for i in range(num_classes):\n",
        "        precision.append(true_positives[i] / (true_positives[i] + false_positives[i] + 1e-10))\n",
        "        recall.append(true_positives[i] / (true_positives[i] + false_negatives[i] + 1e-10))\n",
        "        f1_score.append(2 * (precision[i] * recall[i]) / (precision[i] + recall[i] + 1e-10))\n",
        "\n",
        "                    # create confusion matrix for the current class\n",
        "    \n",
        "    print(f'Validation Loss: {avg_loss:.4f} | Accuracy: {accuracy:.4f}')\n",
        "    print(f'Precision: {precision}')\n",
        "    print(f'Recall: {recall}')\n",
        "    print(f'F1 Score: {f1_score}')\n",
        "\n",
        "    # create confusion matrix\n",
        "    cm = confusion_matrix(all_labels, all_preds)\n",
        "    print(\"Confusion Matrix:\")\n",
        "    print(cm)\n",
        "    \n",
        "\n",
        "    return avg_loss, accuracy, precision, recall, f1_score, cm"
      ],
      "metadata": {
        "id": "6_1gSIM3ga2A"
      },
      "execution_count": 14,
      "outputs": []
    },
    {
      "cell_type": "code",
      "source": [
        "num_epochs = 5\n",
        "\n",
        "optimizer = torch.optim.Adam(model.parameters(), lr=1e-5)\n",
        "loss_fn = nn.CrossEntropyLoss()\n",
        "val_loss = []\n",
        "val_acc = []\n",
        "for epoch in range(num_epochs):\n",
        "    print(f'Epoch {epoch+1}/{num_epochs}')\n",
        "    \n",
        "    # train model on training set\n",
        "    train_model(model, train_loader, optimizer)\n",
        "    \n",
        "    # validate model on validation set\n",
        "    avg_loss, accuracy, precision, recall, f1_score, cm = validate(model, val_loader, 5)\n",
        "    val_loss.append(avg_loss)\n",
        "    val_acc.append(accuracy)"
      ],
      "metadata": {
        "colab": {
          "base_uri": "https://localhost:8080/"
        },
        "id": "p0Ys_DFKaAOz",
        "outputId": "aa86a5e9-021b-42e1-a8c4-06d734e4df43"
      },
      "execution_count": 15,
      "outputs": [
        {
          "output_type": "stream",
          "name": "stdout",
          "text": [
            "Epoch 1/5\n",
            "Validation Loss: 4.5989 | Accuracy: 0.2879\n",
            "Precision: [0.9199999999963201, 0.9285714285647959, 0.23313609467452862, 0.9393939393910927, 0.0]\n",
            "Recall: [0.12169312169305731, 0.07262569832398177, 0.9999999999994924, 0.1565656565655775, 0.0]\n",
            "F1 Score: [0.2149532710072015, 0.13471502589314077, 0.37811900188865, 0.26839826837354624, 0.0]\n",
            "Confusion Matrix:\n",
            "[[ 23   0 166   0   0]\n",
            " [  0  13 166   0   0]\n",
            " [  0   0 197   0   0]\n",
            " [  0   1 166  31   0]\n",
            " [  2   0 150   2   0]]\n",
            "Epoch 2/5\n",
            "Validation Loss: 2.1750 | Accuracy: 0.6260\n",
            "Precision: [0.7823529411760104, 0.7872340425526332, 0.43693693693683855, 0.839506172838988, 0.0]\n",
            "Recall: [0.7037037037033315, 0.620111731843229, 0.984771573603561, 0.68686868686834, 0.0]\n",
            "F1 Score: [0.7409470751586409, 0.6937499999502714, 0.6053042121257222, 0.7555555555056358, 0.0]\n",
            "Confusion Matrix:\n",
            "[[133   5  45   6   0]\n",
            " [  4 111  55   9   0]\n",
            " [  1   2 194   0   0]\n",
            " [  4   4  54 136   0]\n",
            " [ 28  19  96  11   0]]\n",
            "Epoch 3/5\n",
            "Validation Loss: 1.2066 | Accuracy: 0.7710\n",
            "Precision: [0.7511737089198351, 0.7558139534879327, 0.8284313725486135, 0.7422222222218924, 0.7864077669895277]\n",
            "Recall: [0.8465608465603986, 0.7262569832398178, 0.8578680203041331, 0.8434343434339175, 0.5259740259736845]\n",
            "F1 Score: [0.7960199004472945, 0.7407407406903387, 0.8428927680293954, 0.7895981086968753, 0.6303501945040076]\n",
            "Confusion Matrix:\n",
            "[[160   8   5  10   6]\n",
            " [  7 130  22  16   4]\n",
            " [ 11  10 169   4   3]\n",
            " [ 13   7   2 167   9]\n",
            " [ 22  17   6  28  81]]\n",
            "Epoch 4/5\n",
            "Validation Loss: 0.8502 | Accuracy: 0.7830\n",
            "Precision: [0.8444444444439754, 0.8355263157889241, 0.838383838383415, 0.7715736040605221, 0.6368421052628228]\n",
            "Recall: [0.8042328042323788, 0.7094972067035143, 0.8426395939082018, 0.76767676767638, 0.7857142857137756]\n",
            "F1 Score: [0.8238482384319681, 0.7673716011583284, 0.8405063290634988, 0.7696202531141677, 0.7034883720431618]\n",
            "Confusion Matrix:\n",
            "[[152  11   5  10  11]\n",
            " [  5 127  20  14  13]\n",
            " [  5   6 166   4  16]\n",
            " [ 11   6   0 152  29]\n",
            " [  7   2   7  17 121]]\n",
            "Epoch 5/5\n",
            "Validation Loss: 0.7338 | Accuracy: 0.7917\n",
            "Precision: [0.857954545454058, 0.8543046357610237, 0.8407960199000792, 0.7718446601938002, 0.6448087431690466]\n",
            "Recall: [0.7989417989413763, 0.7206703910610499, 0.8578680203041331, 0.8030303030298975, 0.7662337662332688]\n",
            "F1 Score: [0.8273972602235826, 0.7818181817680679, 0.8492462311053571, 0.7871287128209172, 0.7002967358549992]\n",
            "Confusion Matrix:\n",
            "[[151  11   5   8  14]\n",
            " [  5 129  17  15  13]\n",
            " [  5   6 169   3  14]\n",
            " [  9   4   2 159  24]\n",
            " [  6   1   8  21 118]]\n"
          ]
        }
      ]
    },
    {
      "cell_type": "code",
      "source": [],
      "metadata": {
        "id": "ReF9RRgOuTgZ"
      },
      "execution_count": 15,
      "outputs": []
    },
    {
      "cell_type": "code",
      "source": [
        "import matplotlib.pyplot as plt\n",
        "\n",
        "# plot validation loss\n",
        "plt.plot(range(1, num_epochs+1), val_acc)\n",
        "plt.xlabel('Epoch')\n",
        "plt.ylabel('Validation Accuracy')\n",
        "plt.title('BERT: Validation Accuracy vs. Epoch')\n",
        "plt.show()"
      ],
      "metadata": {
        "colab": {
          "base_uri": "https://localhost:8080/",
          "height": 472
        },
        "id": "zMy76L1WdSo2",
        "outputId": "df856f0d-e15c-4710-9459-2e66768391ee"
      },
      "execution_count": 16,
      "outputs": [
        {
          "output_type": "display_data",
          "data": {
            "text/plain": [
              "<Figure size 640x480 with 1 Axes>"
            ],
            "image/png": "[encoded data removed]"
          },
          "metadata": {}
        }
      ]
    },
    {
      "cell_type": "code",
      "source": [
        "avg_loss, accuracy, precision, recall, f1_score, cm = validate(model, test_loader, 5)"
      ],
      "metadata": {
        "colab": {
          "base_uri": "https://localhost:8080/"
        },
        "id": "xFZlSa9w53-F",
        "outputId": "afa88b4f-ce34-4963-8701-e13a63cd3b01"
      },
      "execution_count": 17,
      "outputs": [
        {
          "output_type": "stream",
          "name": "stdout",
          "text": [
            "Validation Loss: 0.6722 | Accuracy: 0.8148\n",
            "Precision: [0.8857142857136532, 0.8961038961033143, 0.8465116279065831, 0.7688442211051413, 0.7190476190472767]\n",
            "Recall: [0.7848101265817818, 0.7301587301583439, 0.8965517241374894, 0.8499999999995278, 0.8031914893612749]\n",
            "F1 Score: [0.8322147650502951, 0.8046647229821214, 0.8708133970788112, 0.8073878627465334, 0.7587939697990178]\n",
            "Confusion Matrix:\n",
            "[[124   3   4   8  19]\n",
            " [  3 138  15  15  18]\n",
            " [  3   5 182   2  11]\n",
            " [  4   6   6 153  11]\n",
            " [  6   2   8  21 151]]\n"
          ]
        }
      ]
    },
    {
      "cell_type": "code",
      "source": [
        "print(set(labels), set(decoded_labels))"
      ],
      "metadata": {
        "id": "t9vwM4Wq6pkp",
        "colab": {
          "base_uri": "https://localhost:8080/"
        },
        "outputId": "5d15f3b3-2175-43a4-94a1-775c69e02dd5"
      },
      "execution_count": 18,
      "outputs": [
        {
          "output_type": "stream",
          "name": "stdout",
          "text": [
            "{0, 1, 2, 3, 4} {'Fossil Fuels', 'Energy Storage, Conversion, and Utilization', 'Fission and Nuclear Technologies', 'Renewable Energy Sources', 'Environmental Sciences'}\n"
          ]
        }
      ]
    }
  ]
}